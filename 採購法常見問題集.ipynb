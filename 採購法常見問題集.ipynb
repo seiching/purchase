{
  "cells": [
    {
      "cell_type": "markdown",
      "id": "359697d5",
      "metadata": {
        "id": "359697d5"
      },
      "source": [
        "# LangChain Cookbook 👨‍🍳👩‍🍳"
      ]
    },
    {
      "cell_type": "markdown",
      "id": "11d788b0",
      "metadata": {
        "id": "11d788b0"
      },
      "source": [
        "*This cookbook is based off the [LangChain Conceptual Documentation](https://docs.langchain.com/docs/)*\n",
        "\n",
        "**Goal:** Provide an introductory understanding of the components and use cases of LangChain via [ELI5](https://www.dictionary.com/e/slang/eli5/#:~:text=ELI5%20is%20short%20for%20%E2%80%9CExplain,a%20complicated%20question%20or%20problem.) examples and code snippets. For use cases check out part 2 (coming soon).\n",
        "\n",
        "\n",
        "**Links:**\n",
        "* [LC Conceptual Documentation](https://docs.langchain.com/docs/)\n",
        "* [LC Python Documentation](https://python.langchain.com/en/latest/)\n",
        "* [LC Javascript/Typescript Documentation](https://js.langchain.com/docs/)\n",
        "* [LC Discord](https://discord.gg/6adMQxSpJS)\n",
        "* [www.langchain.com](https://langchain.com/)\n",
        "* [LC Twitter](https://twitter.com/LangChainAI)\n",
        "\n",
        "\n",
        "### **What is LangChain?**\n",
        "> LangChain is a framework for developing applications powered by language models.\n",
        "\n",
        "**~~TL~~DR**: LangChain makes the complicated parts of working & building with AI models easier. It helps do this in two ways:\n",
        "\n",
        "1. **Integration** - Bring external data, such as your files, other applications, and api data, to your LLMs\n",
        "2. **Agency** - Allow your LLMs to interact with it's environment via decision making. Use LLMs to help decide which action to take next\n",
        "\n",
        "### **Why LangChain?**\n",
        "1. **Components** - LangChain makes it easy to swap out abstractions and components necessary to work with language models.\n",
        "\n",
        "2. **Customized Chains** - LangChain provides out of the box support for using and customizing 'chains' - a series of actions strung together.\n",
        "\n",
        "3. **Speed 🚢** - This team ships insanely fast. You'll be up to date with the latest LLM features.\n",
        "\n",
        "4. **Community 👥** - Wonderful discord and community support, meet ups, hackathons, etc.\n",
        "\n",
        "Though LLMs can be straightforward (text-in, text-out) you'll quickly run into friction points that LangChain helps with once you develop more complicated applications.\n",
        "\n",
        "*Note: This cookbook will not cover all aspects of LangChain. It's contents have been curated to get you to building & impact as quick as possible. For more, please check out [LangChain Conceptual Documentation](https://docs.langchain.com/docs/)*"
      ]
    },
    {
      "cell_type": "code",
      "execution_count": null,
      "id": "e9815081",
      "metadata": {
        "hide_input": false,
        "id": "e9815081"
      },
      "outputs": [],
      "source": [
        "openai_api_key=''\n"
      ]
    },
    {
      "cell_type": "code",
      "source": [
        "!pip install tiktoken langchain openai faiss-gpu"
      ],
      "metadata": {
        "colab": {
          "base_uri": "https://localhost:8080/"
        },
        "id": "jU-EMPxpT-UC",
        "outputId": "90b1c196-a4f0-46e8-b8b2-295a9ccebe32"
      },
      "id": "jU-EMPxpT-UC",
      "execution_count": null,
      "outputs": [
        {
          "output_type": "stream",
          "name": "stdout",
          "text": [
            "Requirement already satisfied: tiktoken in /usr/local/lib/python3.10/dist-packages (0.5.1)\n",
            "Requirement already satisfied: langchain in /usr/local/lib/python3.10/dist-packages (0.0.294)\n",
            "Requirement already satisfied: openai in /usr/local/lib/python3.10/dist-packages (0.28.0)\n",
            "Requirement already satisfied: faiss-gpu in /usr/local/lib/python3.10/dist-packages (1.7.2)\n",
            "Requirement already satisfied: regex>=2022.1.18 in /usr/local/lib/python3.10/dist-packages (from tiktoken) (2023.6.3)\n",
            "Requirement already satisfied: requests>=2.26.0 in /usr/local/lib/python3.10/dist-packages (from tiktoken) (2.31.0)\n",
            "Requirement already satisfied: PyYAML>=5.3 in /usr/local/lib/python3.10/dist-packages (from langchain) (6.0.1)\n",
            "Requirement already satisfied: SQLAlchemy<3,>=1.4 in /usr/local/lib/python3.10/dist-packages (from langchain) (2.0.20)\n",
            "Requirement already satisfied: aiohttp<4.0.0,>=3.8.3 in /usr/local/lib/python3.10/dist-packages (from langchain) (3.8.5)\n",
            "Requirement already satisfied: async-timeout<5.0.0,>=4.0.0 in /usr/local/lib/python3.10/dist-packages (from langchain) (4.0.3)\n",
            "Requirement already satisfied: dataclasses-json<0.6.0,>=0.5.7 in /usr/local/lib/python3.10/dist-packages (from langchain) (0.5.14)\n",
            "Requirement already satisfied: langsmith<0.1.0,>=0.0.38 in /usr/local/lib/python3.10/dist-packages (from langchain) (0.0.38)\n",
            "Requirement already satisfied: numexpr<3.0.0,>=2.8.4 in /usr/local/lib/python3.10/dist-packages (from langchain) (2.8.5)\n",
            "Requirement already satisfied: numpy<2,>=1 in /usr/local/lib/python3.10/dist-packages (from langchain) (1.23.5)\n",
            "Requirement already satisfied: pydantic<3,>=1 in /usr/local/lib/python3.10/dist-packages (from langchain) (1.10.12)\n",
            "Requirement already satisfied: tenacity<9.0.0,>=8.1.0 in /usr/local/lib/python3.10/dist-packages (from langchain) (8.2.3)\n",
            "Requirement already satisfied: tqdm in /usr/local/lib/python3.10/dist-packages (from openai) (4.66.1)\n",
            "Requirement already satisfied: attrs>=17.3.0 in /usr/local/lib/python3.10/dist-packages (from aiohttp<4.0.0,>=3.8.3->langchain) (23.1.0)\n",
            "Requirement already satisfied: charset-normalizer<4.0,>=2.0 in /usr/local/lib/python3.10/dist-packages (from aiohttp<4.0.0,>=3.8.3->langchain) (3.2.0)\n",
            "Requirement already satisfied: multidict<7.0,>=4.5 in /usr/local/lib/python3.10/dist-packages (from aiohttp<4.0.0,>=3.8.3->langchain) (6.0.4)\n",
            "Requirement already satisfied: yarl<2.0,>=1.0 in /usr/local/lib/python3.10/dist-packages (from aiohttp<4.0.0,>=3.8.3->langchain) (1.9.2)\n",
            "Requirement already satisfied: frozenlist>=1.1.1 in /usr/local/lib/python3.10/dist-packages (from aiohttp<4.0.0,>=3.8.3->langchain) (1.4.0)\n",
            "Requirement already satisfied: aiosignal>=1.1.2 in /usr/local/lib/python3.10/dist-packages (from aiohttp<4.0.0,>=3.8.3->langchain) (1.3.1)\n",
            "Requirement already satisfied: marshmallow<4.0.0,>=3.18.0 in /usr/local/lib/python3.10/dist-packages (from dataclasses-json<0.6.0,>=0.5.7->langchain) (3.20.1)\n",
            "Requirement already satisfied: typing-inspect<1,>=0.4.0 in /usr/local/lib/python3.10/dist-packages (from dataclasses-json<0.6.0,>=0.5.7->langchain) (0.9.0)\n",
            "Requirement already satisfied: typing-extensions>=4.2.0 in /usr/local/lib/python3.10/dist-packages (from pydantic<3,>=1->langchain) (4.5.0)\n",
            "Requirement already satisfied: idna<4,>=2.5 in /usr/local/lib/python3.10/dist-packages (from requests>=2.26.0->tiktoken) (3.4)\n",
            "Requirement already satisfied: urllib3<3,>=1.21.1 in /usr/local/lib/python3.10/dist-packages (from requests>=2.26.0->tiktoken) (2.0.4)\n",
            "Requirement already satisfied: certifi>=2017.4.17 in /usr/local/lib/python3.10/dist-packages (from requests>=2.26.0->tiktoken) (2023.7.22)\n",
            "Requirement already satisfied: greenlet!=0.4.17 in /usr/local/lib/python3.10/dist-packages (from SQLAlchemy<3,>=1.4->langchain) (2.0.2)\n",
            "Requirement already satisfied: packaging>=17.0 in /usr/local/lib/python3.10/dist-packages (from marshmallow<4.0.0,>=3.18.0->dataclasses-json<0.6.0,>=0.5.7->langchain) (23.1)\n",
            "Requirement already satisfied: mypy-extensions>=0.3.0 in /usr/local/lib/python3.10/dist-packages (from typing-inspect<1,>=0.4.0->dataclasses-json<0.6.0,>=0.5.7->langchain) (1.0.0)\n"
          ]
        }
      ]
    },
    {
      "cell_type": "markdown",
      "id": "1f85defb",
      "metadata": {
        "id": "1f85defb"
      },
      "source": [
        "### **Retrievers**\n",
        "Easy way to combine documents with language models.\n",
        "\n",
        "There are many different types of retrievers, the most widely supported is the VectoreStoreRetriever"
      ]
    },
    {
      "cell_type": "code",
      "source": [
        "! wget https://raw.githubusercontent.com/seiching/purchase/main/lawfaq.txt"
      ],
      "metadata": {
        "colab": {
          "base_uri": "https://localhost:8080/"
        },
        "id": "iFFf_8gPE3Zj",
        "outputId": "17ac1946-7b13-4152-9a14-e4128c6d1da6"
      },
      "id": "iFFf_8gPE3Zj",
      "execution_count": null,
      "outputs": [
        {
          "output_type": "stream",
          "name": "stdout",
          "text": [
            "--2023-09-19 09:22:41--  https://raw.githubusercontent.com/seiching/purchase/main/lawfaq.txt\n",
            "Resolving raw.githubusercontent.com (raw.githubusercontent.com)... 185.199.111.133, 185.199.110.133, 185.199.109.133, ...\n",
            "Connecting to raw.githubusercontent.com (raw.githubusercontent.com)|185.199.111.133|:443... connected.\n",
            "HTTP request sent, awaiting response... 200 OK\n",
            "Length: 36925 (36K) [text/plain]\n",
            "Saving to: ‘lawfaq.txt.3’\n",
            "\n",
            "\rlawfaq.txt.3          0%[                    ]       0  --.-KB/s               \rlawfaq.txt.3        100%[===================>]  36.06K  --.-KB/s    in 0s      \n",
            "\n",
            "2023-09-19 09:22:41 (111 MB/s) - ‘lawfaq.txt.3’ saved [36925/36925]\n",
            "\n"
          ]
        }
      ]
    },
    {
      "cell_type": "code",
      "source": [
        "!ls"
      ],
      "metadata": {
        "colab": {
          "base_uri": "https://localhost:8080/"
        },
        "id": "RWSRsBBeE75v",
        "outputId": "a0a5fd92-7cc9-4796-c97b-5edfb8305186"
      },
      "id": "RWSRsBBeE75v",
      "execution_count": null,
      "outputs": [
        {
          "output_type": "stream",
          "name": "stdout",
          "text": [
            "lawfaq.txt  lawfaq.txt.1  lawfaq.txt.2\tlawfaq.txt.3  sample_data\n"
          ]
        }
      ]
    },
    {
      "cell_type": "code",
      "execution_count": null,
      "id": "8cccbd82",
      "metadata": {
        "id": "8cccbd82"
      },
      "outputs": [],
      "source": [
        "from langchain.document_loaders import TextLoader\n",
        "from langchain.text_splitter import RecursiveCharacterTextSplitter\n",
        "from langchain.vectorstores import FAISS\n",
        "from langchain.embeddings import OpenAIEmbeddings\n",
        "filename=\"lawfaq.txt\"\n",
        "loader = TextLoader(filename)\n",
        "\n",
        "documents = loader.load()"
      ]
    },
    {
      "cell_type": "code",
      "execution_count": null,
      "id": "1dab1c20",
      "metadata": {
        "id": "1dab1c20"
      },
      "outputs": [],
      "source": [
        "# Get your splitter ready\n",
        "text_splitter = RecursiveCharacterTextSplitter(chunk_size=300, chunk_overlap=50)\n",
        "\n",
        "# Split your docs into texts\n",
        "texts = text_splitter.split_documents(documents)\n",
        "\n",
        "# Get embedding engine ready\n",
        "embeddings = OpenAIEmbeddings(openai_api_key=openai_api_key,model=\"text-embedding-ada-002\")\n",
        "\n",
        "# Embedd your texts\n",
        "db = FAISS.from_documents(texts, embeddings)"
      ]
    },
    {
      "cell_type": "code",
      "execution_count": null,
      "id": "e62372be",
      "metadata": {
        "id": "e62372be"
      },
      "outputs": [],
      "source": [
        "# Init your retriever. Asking for just 1 document back\n",
        "retriever = db.as_retriever()"
      ]
    },
    {
      "cell_type": "code",
      "source": [
        "from langchain.chat_models import ChatOpenAI\n",
        "from langchain.schema import HumanMessage, SystemMessage, AIMessage\n",
        "\n",
        "chat = ChatOpenAI(temperature=.7, openai_api_key=openai_api_key)"
      ],
      "metadata": {
        "id": "jGyTYs_bG54C"
      },
      "id": "jGyTYs_bG54C",
      "execution_count": null,
      "outputs": []
    },
    {
      "cell_type": "code",
      "source": [],
      "metadata": {
        "id": "wK1c6s3Z0k3F"
      },
      "id": "wK1c6s3Z0k3F",
      "execution_count": null,
      "outputs": []
    },
    {
      "cell_type": "code",
      "source": [
        "retriever = db.as_retriever(search_type=\"similarity\", search_kwargs={\"k\":6})\n",
        "\n",
        "from langchain.chains import RetrievalQA, ConversationalRetrievalChain\n",
        "qa_interface = RetrievalQA.from_chain_type(llm=ChatOpenAI(openai_api_key=openai_api_key), chain_type=\"stuff\", retriever=retriever, return_source_documents=True)\n"
      ],
      "metadata": {
        "colab": {
          "base_uri": "https://localhost:8080/"
        },
        "id": "V6Lf-KgVzl7K",
        "outputId": "66f2dd29-b582-48b2-d31d-0428362fbdfe"
      },
      "id": "V6Lf-KgVzl7K",
      "execution_count": null,
      "outputs": [
        {
          "output_type": "stream",
          "name": "stdout",
          "text": [
            "{'query': '什麼是工程採購?', 'result': '工程採購是指機關或組織為了進行工程項目的建設、設計、施工、維修等活動，通過招標或協商的方式，選擇合適的廠商或承包商，進行相關工程項目的採購和合約簽訂的過程。工程採購涉及到工程項目的規劃、設計、材料供應、施工等各個環節，並需要遵守相關的法律法規和採購程序。', 'source_documents': [Document(page_content='十、工程會訂頒之各類採購契約範本之效力如何？\\t政府採購法第63條第1項規定：「各類採購契約以採用主管機關訂定之範本為原則，其要項及內容由主管機關參考國際及國內慣例定之」。', metadata={'source': 'lawfaq.txt'}), Document(page_content='八、統包工程是否得與監造工作併案發包？\\t「政府採購法」第24條第2項規定「前項所稱統包，指將工程或財物採購中之設計、施工、供應、安裝或一定期間之維修等併於同一採購契約辦理招標」，並未包括監造。', metadata={'source': 'lawfaq.txt'}), Document(page_content='十三、機關辦理工程採購，其須辦理契約變更而有新增非屬原契約數量清單內所列之工程項目者，其單價如何訂定？\\t新增工程項目單價編列方式，應以原預算相關單價分析資料為基礎，並考慮市場價格波動情形；其底價訂定，並應符合政府採購法第46條規定。\\n十四、採總價結算之工程採購，實際施作數量較契約所定數量為高時，契約價金如何給付？\\t採購契約要項第32點載明：「工程之個別項目實作數量較契約所定數量增減達百分之五以上者，其逾百分之五之部分，變更設計增減契約價金。未達百分之五者，契約價金得不予增減」，機關得將上開內容納入個案契約據以辦理。', metadata={'source': 'lawfaq.txt'}), Document(page_content='一、採購兼有工程、財物、勞務性質，如何認定其採購歸屬？\\t採購兼有工程、財物、勞務性質，難以認定其採購歸屬者，依政府採購法第7條第4項規定，按其性質所占預算金額比率最高者歸屬之。\\n二、得標廠商於決標後稱其標價書寫錯誤， 拒不簽約，押標金會不會被没收？\\t招標文件載明政府採購法第31條第2項第5款者，不發還其押標金。\\n三、廠商可否以公司支票繳納押標金或履約保證金？\\t廠商公司支票非屬政府採購法第30條第2項所稱「金融機構支票」，不得做為押標金或履約保證金。', metadata={'source': 'lawfaq.txt'}), Document(page_content='十一、機關辦理工程採購，可否無預算即先決標，或任意挪用預算？\\t機關辦理工程採購，如發生無預算即先決標，或預算遭挪用致無款項及時支付廠商之情形，依「採購人員倫理準則」第12條及第13條規定懲處相關人員，包括依公務員服務法、公務員懲戒法、公務人員考績法之相關規定。\\n十二、工程採購決標後，契約單價之調整原則為何？\\t採購契約單價無論以機關預算或廠商報價為基礎來調整訂定，須以合理性為前提，並保留且善用雙方協議之機制。', metadata={'source': 'lawfaq.txt'}), Document(page_content='六、機關辦理工程採購，依契約物價指數調整約定辦理工程款調整，於工程結算時，其於工程結算驗收證明書上如何填寫？\\t如依工程會「工程結算驗收證明書」格式辦理者，其物價調整款得於「增減價款」欄位中，就其實際增加或減少金額分別填入。\\n七、技術工法尚不明確，或擬議中之技術工法是否有效尚不確定之工程採購，是否適合以統包方式辦理？\\t各機關對於技術工法尚不明確，或擬議中之技術工法是否有效尚不確定之工程採購，不應採統包方式或以寬鬆規範辦理招標，以避免發生採購爭議及浪費公帑情形；該等特性之工程，宜就規劃設計結果進行可行性評估並確定技術工法及其有效性後，再就細部設計結果辦理施工標之招標。', metadata={'source': 'lawfaq.txt'})]}\n"
          ]
        }
      ]
    },
    {
      "cell_type": "code",
      "execution_count": null,
      "id": "3193b53e",
      "metadata": {
        "id": "3193b53e",
        "colab": {
          "base_uri": "https://localhost:8080/"
        },
        "outputId": "93f5c9e6-5397-48a7-f6c2-2fa2b5ae1005"
      },
      "outputs": [
        {
          "output_type": "stream",
          "name": "stdout",
          "text": [
            "{'query': '決標有什麼要注意的?', 'result': '決標時需要注意以下事項：\\n\\n1. 決標原則：根據政府採購法第52條第1項，決標原則應符合法定的原則，不能僅以折扣率最高者為決標對象。\\n\\n2. 契約單價調整：在工程採購中，契約單價的調整應以合理性為前提，並保留雙方協議的機制。\\n\\n3. 預算限制：廠商報價不得超過預算金額，除非招標文件規定可以進行減價程序。\\n\\n4. 差額保證金與履約保證金：差額保證金與履約保證金是不同的，廠商在決標後仍需根據招標文件規定繳納履約保證金。\\n\\n5. 標價一致性：投標廠商填列的總價，大寫和小寫金額應保持一致，若不一致，以文字為準。\\n\\n6. 招標文件規定：決標時應遵守招標文件中規定的事項，如未明確規定則需依據相關法條進行處理。\\n\\n7. 標的類別限制：在投標須知中如有限定標的類別的原產地須為該國，則只有國內廠商得標，不違反政府採購法。\\n\\n8. 預算限制：廠商報價不得超過預算金額，除非招標文件規定可以進行減價程序。\\n\\n9. 押標金：廠商應使用金融機構支票繳納押標金，並且必須填寫受款人的資訊，否則押標金可能被沒收。\\n\\n以上是決標時需要注意的一些事項，具體情況還需參考相關法規和招標文件的規定。', 'source_documents': [Document(page_content='十、機關辦理圖書採購，其決標原則，得否以廠商所報書本定價之折扣率最高者為決標對象？\\t圖書採購，得以折扣數之高低為決標依據，但須符合政府採購法第52條第1項之決標原則。\\n十一、機關辦理財物採購，如有需訂定物價指數調整之條款，得否引用工程採購契約中有關臺灣地區營造工程物價指數計算物價調整款之條款？\\t機關辦理財物採購，如於契約中載明契約價金依物價指數調整之約定，應考量標的類別特性，參考工程會訂頒之財物採購契約範本第5條妥為訂定，勿任意引用臺灣地區營造工程物價指數。如欲引用上開工程物價指數，以財物採購案中，其性質屬工程項目者為限，並於招標文件中預為載明適用之項目。', metadata={'source': 'lawfaq.txt'}), Document(page_content='十一、機關辦理工程採購，可否無預算即先決標，或任意挪用預算？\\t機關辦理工程採購，如發生無預算即先決標，或預算遭挪用致無款項及時支付廠商之情形，依「採購人員倫理準則」第12條及第13條規定懲處相關人員，包括依公務員服務法、公務員懲戒法、公務人員考績法之相關規定。\\n十二、工程採購決標後，契約單價之調整原則為何？\\t採購契約單價無論以機關預算或廠商報價為基礎來調整訂定，須以合理性為前提，並保留且善用雙方協議之機制。', metadata={'source': 'lawfaq.txt'}), Document(page_content='三、機關之投標須知未明定「允許非條約協定國廠商參與」，若國內廠商供應非條約協定國廠商之財物是否視同外國廠商，由其得標是否違法？\\t國內廠商供應非條約協定國廠商之財物，依外國廠商參與非條約協定採購處理辦法第4條第2項之規定，視同外國廠商。惟如投標須知未限定財物之原產地須為我國，則由該國內廠商得標，不違反政府採購法。\\n四、機關公開徵求房地產，對於尚在建照未取得使用執照之房地，得否參與競標？\\t對於尚在建照未取得使用執照者，不宜納為徵選之標的。', metadata={'source': 'lawfaq.txt'}), Document(page_content='八、廠商報價偏低，經機關通知繳納差額保證金後決標者，其得標後是否仍須依招標文件規定繳納履約保證金？\\t「差額保證金」係作為廠商報價偏低顯不合理、有影響履約品質之虞，應機關要求作為決標予該廠商之擔保，其性質與廠商得標後所繳納之「履約保證金」有別。廠商以差額保證金作為政府採購法第58條規定之擔保者，仍應依招標文件規定繳納履約保證金。\\n九、投標廠商於報價單填列之總價，大寫及小寫金額不一致，以何者為準？\\t依政府採購法施行細則第81條規定，投標文件記載金額之文字與號碼不符時，以文字為準。', metadata={'source': 'lawfaq.txt'}), Document(page_content='四、廠商參與投標，以金融機構支票繳納押標金，但未載明受款人，是否有效？\\t廠商以受款人空白之金融機構支票繳納押標金，以執票之機關為受款人，該票據仍屬有效。\\n五、廠商報價超過預算金額，是否為有效標？\\t已公開預算金額之採購案，機關得於招標文件規定：「標價超過預算者為不合格標，不予減價機會」；招標文件無此規定者，如採最低標決標方式，尚有減價程序。\\n六、某機關辦理採購，經開標減價結果，有一廠商總標價與底價相同，則可否再洽廠商減價?\\n已在底價以內之情形，不可以再洽廠商減價，除有政府採購法第58條部分標價偏低之情形者外，應即宣布決標。', metadata={'source': 'lawfaq.txt'}), Document(page_content='一、採購兼有工程、財物、勞務性質，如何認定其採購歸屬？\\t採購兼有工程、財物、勞務性質，難以認定其採購歸屬者，依政府採購法第7條第4項規定，按其性質所占預算金額比率最高者歸屬之。\\n二、得標廠商於決標後稱其標價書寫錯誤， 拒不簽約，押標金會不會被没收？\\t招標文件載明政府採購法第31條第2項第5款者，不發還其押標金。\\n三、廠商可否以公司支票繳納押標金或履約保證金？\\t廠商公司支票非屬政府採購法第30條第2項所稱「金融機構支票」，不得做為押標金或履約保證金。', metadata={'source': 'lawfaq.txt'})]}\n"
          ]
        }
      ],
      "source": [
        "response = qa_interface(\"決標有什麼要注意的?\")\n",
        "print(response)"
      ]
    },
    {
      "cell_type": "code",
      "source": [
        "print(response['result'])"
      ],
      "metadata": {
        "colab": {
          "base_uri": "https://localhost:8080/"
        },
        "id": "vF9qVjhywipE",
        "outputId": "339b0770-f5d0-4a14-dc3d-9ca9ab650a38"
      },
      "id": "vF9qVjhywipE",
      "execution_count": null,
      "outputs": [
        {
          "output_type": "stream",
          "name": "stdout",
          "text": [
            "決標時需要注意以下事項：\n",
            "\n",
            "1. 決標原則：根據政府採購法第52條第1項，決標原則應符合法定的原則，不能僅以折扣率最高者為決標對象。\n",
            "\n",
            "2. 契約單價調整：在工程採購中，契約單價的調整應以合理性為前提，並保留雙方協議的機制。\n",
            "\n",
            "3. 預算限制：廠商報價不得超過預算金額，除非招標文件規定可以進行減價程序。\n",
            "\n",
            "4. 差額保證金與履約保證金：差額保證金與履約保證金是不同的，廠商在決標後仍需根據招標文件規定繳納履約保證金。\n",
            "\n",
            "5. 標價一致性：投標廠商填列的總價，大寫和小寫金額應保持一致，若不一致，以文字為準。\n",
            "\n",
            "6. 招標文件規定：決標時應遵守招標文件中規定的事項，如未明確規定則需依據相關法條進行處理。\n",
            "\n",
            "7. 標的類別限制：在投標須知中如有限定標的類別的原產地須為該國，則只有國內廠商得標，不違反政府採購法。\n",
            "\n",
            "8. 預算限制：廠商報價不得超過預算金額，除非招標文件規定可以進行減價程序。\n",
            "\n",
            "9. 押標金：廠商應使用金融機構支票繳納押標金，並且必須填寫受款人的資訊，否則押標金可能被沒收。\n",
            "\n",
            "以上是決標時需要注意的一些事項，具體情況還需參考相關法規和招標文件的規定。\n"
          ]
        }
      ]
    }
  ],
  "metadata": {
    "kernelspec": {
      "display_name": "Python 3 (ipykernel)",
      "language": "python",
      "name": "python3"
    },
    "language_info": {
      "codemirror_mode": {
        "name": "ipython",
        "version": 3
      },
      "file_extension": ".py",
      "mimetype": "text/x-python",
      "name": "python",
      "nbconvert_exporter": "python",
      "pygments_lexer": "ipython3",
      "version": "3.9.13"
    },
    "colab": {
      "provenance": []
    }
  },
  "nbformat": 4,
  "nbformat_minor": 5
}